{
 "cells": [
  {
   "cell_type": "markdown",
   "metadata": {},
   "source": [
    "### Docker commands"
   ]
  },
  {
   "cell_type": "code",
   "execution_count": 1,
   "metadata": {
    "vscode": {
     "languageId": "shellscript"
    }
   },
   "outputs": [],
   "source": [
    "# Dans Powershell :\n",
    "\n",
    "# docker run -it -d --name LSP5_project -v ${pwd}:/app pytorch/pytorch:2.0.1-cuda11.7-cudnn8-runtime /bin/bash (creer et start, obliger de recrer si nouvelle image) (pwd : a lendroit ou je suis : nom du folder ou il y aurait les memes files sur mon ordi que ds le contenaire) (app = nom folder) -w \n",
    "# docker exec -it miniconda_test /bin/bash (execution contenaire)\n",
    "\n",
    "# (creer image en 1er puis contenaire autour)\n",
    "# docker pull name_image:tag (telecharger image officiel)\n",
    "# docker images (voir les images)\n",
    "# docker rmi name (remove image)\n",
    "\n",
    "# docker ps (voir les contenaires qui sont ouvert)\n",
    "# docker stop name (stop le contenaire)\n",
    "# docker stop $(docker ps -a -q)\n",
    "# docker start name_container (doit le faire avant exec)\n",
    "# docker container list -a \n",
    "# docker rm name (remove contenaire, name or id)\n",
    "\n",
    "# cd path_repertoire (ou il y a le docker file)\n",
    "# docker build -t name_image:tag . (create new image with package write in Dockerfile, le . indique la localisation, tag optionnel )\n",
    "# docker run name_image (activate image)\n",
    "\n",
    "# NB : fichier ipynb non lisible => utilier jupyter ds un tag\n",
    "\n",
    "# Dans docker activé :\n",
    "# python name\n"
   ]
  },
  {
   "cell_type": "markdown",
   "metadata": {},
   "source": [
    "### GPU nvidia commands :\n"
   ]
  },
  {
   "cell_type": "code",
   "execution_count": null,
   "metadata": {
    "vscode": {
     "languageId": "shellscript"
    }
   },
   "outputs": [],
   "source": [
    "# nvidia-smi : see gpu memory and availabilities\n",
    "# nvtop : see gpu in use "
   ]
  },
  {
   "cell_type": "markdown",
   "metadata": {},
   "source": [
    "### Screen commands :"
   ]
  },
  {
   "cell_type": "code",
   "execution_count": 2,
   "metadata": {
    "vscode": {
     "languageId": "shellscript"
    }
   },
   "outputs": [],
   "source": [
    "# screen -S name \n",
    "# ctrl a then command \n",
    "# d : detach\n",
    "# t : see if in a screen\n",
    "# screen -ls (name if many screen): list of screen\n",
    "# screen -dr : attach again"
   ]
  },
  {
   "cell_type": "markdown",
   "metadata": {},
   "source": [
    "### Visdom commands :"
   ]
  },
  {
   "cell_type": "code",
   "execution_count": 8,
   "metadata": {
    "vscode": {
     "languageId": "shellscript"
    }
   },
   "outputs": [],
   "source": [
    "# python3 -m visdom.server : start server "
   ]
  },
  {
   "cell_type": "markdown",
   "metadata": {},
   "source": [
    "### Useful commands :"
   ]
  },
  {
   "cell_type": "code",
   "execution_count": 9,
   "metadata": {
    "vscode": {
     "languageId": "shellscript"
    }
   },
   "outputs": [],
   "source": [
    "# see free space :  df -h"
   ]
  },
  {
   "cell_type": "markdown",
   "metadata": {},
   "source": [
    "### To set the seed : "
   ]
  },
  {
   "cell_type": "code",
   "execution_count": 4,
   "metadata": {
    "vscode": {
     "languageId": "shellscript"
    }
   },
   "outputs": [],
   "source": [
    "# import os\n",
    "\n",
    "# os.environ[\"CUBLAS_WORKSPACE_CONFIG\"] = \":4096:8\"\n",
    "# import random\n",
    "# random.seed(0)\n",
    "\n",
    "# import numpy as np\n",
    "# np.random.seed(0)\n",
    "\n",
    "# torch.use_deterministic_algorithms(True)\n",
    "# def seed_worker(worker_id):\n",
    "#     worker_seed = torch.initial_seed() % 2**32\n",
    "#     numpy.random.seed(worker_seed)\n",
    "#     random.seed(worker_seed)\n",
    "\n",
    "# g = torch.Generator()\n",
    "# g.manual_seed(0)\n",
    "\n",
    "# DataLoader(\n",
    "#     train_dataset,\n",
    "#     batch_size=batch_size,\n",
    "#     num_workers=num_workers,\n",
    "#     worker_init_fn=seed_worker,\n",
    "#     generator=g)"
   ]
  },
  {
   "cell_type": "markdown",
   "metadata": {},
   "source": [
    "### To install conda without autorisation :"
   ]
  },
  {
   "cell_type": "code",
   "execution_count": 5,
   "metadata": {
    "vscode": {
     "languageId": "shellscript"
    }
   },
   "outputs": [],
   "source": [
    "# copy miniconda link of google\n",
    "# run bash link ( bash Miniconda3-latest-Linux-x86_64.sh)\n",
    "# initialize : source ~/.bashrc "
   ]
  },
  {
   "cell_type": "markdown",
   "metadata": {},
   "source": []
  },
  {
   "cell_type": "code",
   "execution_count": null,
   "metadata": {
    "vscode": {
     "languageId": "shellscript"
    }
   },
   "outputs": [],
   "source": []
  }
 ],
 "metadata": {
  "kernelspec": {
   "display_name": "base",
   "language": "python",
   "name": "python3"
  },
  "language_info": {
   "codemirror_mode": {
    "name": "ipython",
    "version": 3
   },
   "file_extension": ".py",
   "mimetype": "text/x-python",
   "name": "python",
   "nbconvert_exporter": "python",
   "pygments_lexer": "ipython3",
   "version": "3.10.11"
  },
  "orig_nbformat": 4
 },
 "nbformat": 4,
 "nbformat_minor": 2
}
